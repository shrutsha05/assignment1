{
 "cells": [
  {
   "cell_type": "code",
   "execution_count": null,
   "id": "78292f08",
   "metadata": {},
   "outputs": [],
   "source": [
    "1.\n",
    "*= expression\n",
    "'hello' = character value\n",
    "-87.8= value\n",
    "- = expression\n",
    "/ = expression\n",
    "+ = expression\n",
    "6 = integer value\n",
    "\n",
    "2. \n",
    "String is a value of a variable which is given in \"\"\n",
    "variable is any non constant which can have assigned values in them such as a integer string etc.\n",
    "for eg a=5 here a is a variable\n",
    "\n",
    "3.\n",
    "numeric: they represents data which has numeric values\n",
    "string: It is a type of data type which contain text in them for eg s=\"python\" \n",
    "list:it is a ordered collection of data. It is very flexible as the data in the list can be of any type\n",
    "\n",
    "4:\n",
    "An expression is a combination of operators and operands which produce some value. Expressions a used to produce a value by evaluating the operands present in it.\n",
    "\n",
    "5:\n",
    "An expression always evaluates to a value\n",
    "a statement is used to create a variable or displaying a value \n",
    "\n",
    "6:\n",
    "23\n",
    "\n",
    "7:\n",
    "'spamspamspam'\n",
    "'spamspamspam'\n",
    "\n",
    "8:\n",
    "eggs is a valid variavle beccause any value can be assigned to it is not a constant\n",
    "100 is not a valid variable because as it is a constant value to which we cannot assign any other value.\n",
    "\n",
    "9:\n",
    "for integer=int()\n",
    "for floatin= float()\n",
    "for string=str()\n",
    "\n",
    "10:\n",
    "the [ ] are missing in the expression if we add them it will run \n",
    "['I have eaten''+99+''burritos;]\n",
    " \n",
    "\n",
    "    \n",
    "    \n",
    "    \n"
   ]
  }
 ],
 "metadata": {
  "kernelspec": {
   "display_name": "Python 3 (ipykernel)",
   "language": "python",
   "name": "python3"
  },
  "language_info": {
   "codemirror_mode": {
    "name": "ipython",
    "version": 3
   },
   "file_extension": ".py",
   "mimetype": "text/x-python",
   "name": "python",
   "nbconvert_exporter": "python",
   "pygments_lexer": "ipython3",
   "version": "3.9.7"
  }
 },
 "nbformat": 4,
 "nbformat_minor": 5
}
